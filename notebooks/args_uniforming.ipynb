{
 "cells": [
  {
   "cell_type": "code",
   "execution_count": 50,
   "metadata": {},
   "outputs": [
    {
     "data": {
      "text/plain": [
       "True"
      ]
     },
     "execution_count": 50,
     "metadata": {},
     "output_type": "execute_result"
    }
   ],
   "source": [
    "import sys; sys.path.append(\"..\")\n",
    "import os\n",
    "import dagpipe\n",
    "import inspect\n",
    "\n",
    "\n",
    "def foo(a,b,c):\n",
    "    ...\n",
    "    \n",
    "    \n",
    "def default_args(a, b, *args):\n",
    "    ...\n",
    "    \n",
    "def default_kwargs(**kwargs):\n",
    "    ...\n",
    "    \n",
    "\n",
    "_sig = inspect.signature(foo)\n",
    "_sig.bind(1,2,3) == _sig.bind(a=1,b=2,c=3)"
   ]
  },
  {
   "cell_type": "code",
   "execution_count": 37,
   "metadata": {},
   "outputs": [],
   "source": [
    "def final_boss(a, b, *args, d=5, **kwargs_):\n",
    "    \n",
    "    print(a,b,args,d,kwargs_)\n",
    "\n",
    "_sig = inspect.signature(final_boss)"
   ]
  },
  {
   "cell_type": "code",
   "execution_count": 17,
   "metadata": {},
   "outputs": [
    {
     "name": "stdout",
     "output_type": "stream",
     "text": [
      "1 2 (3,) 10 {'e': 12}\n"
     ]
    }
   ],
   "source": [
    "bound = _sig.bind(1,2,3, d=10, e=12)\n",
    "final_boss(*bound.args, **bound.kwargs)\n"
   ]
  },
  {
   "cell_type": "code",
   "execution_count": 20,
   "metadata": {},
   "outputs": [
    {
     "data": {
      "text/plain": [
       "{'a': {'a': 10, 'e': 23}}"
      ]
     },
     "execution_count": 20,
     "metadata": {},
     "output_type": "execute_result"
    }
   ],
   "source": [
    "for_update = _sig.bind_partial(dict(a=10, e=23))\n",
    "for_update.args"
   ]
  },
  {
   "cell_type": "code",
   "execution_count": 38,
   "metadata": {},
   "outputs": [
    {
     "name": "stdout",
     "output_type": "stream",
     "text": [
      "{'a': 1, 'b': 3, 'kwargs_': {'asd': 5}}\n"
     ]
    },
    {
     "data": {
      "text/plain": [
       "{'a': 1, 'b': 3, 'kwargs_': {'fifarafa': 10}}"
      ]
     },
     "execution_count": 38,
     "metadata": {},
     "output_type": "execute_result"
    }
   ],
   "source": [
    "from typing import Callable\n",
    "\n",
    "\n",
    "    \n",
    "class FuncParameters:\n",
    "    def __init__(self, func: Callable, *args, **kwargs) -> None:\n",
    "        self.sig = inspect.signature(func)\n",
    "        self._parameters = self.sig.bind(*args, **kwargs).arguments\n",
    "        \n",
    "    def to_dict(self):\n",
    "        return self._parameters\n",
    "        \n",
    "    def update(self, *args, **kwargs):\n",
    "        new_arguments = self.sig.bind_partial(*args, **kwargs).arguments\n",
    "        for arg_name, value in new_arguments.items():\n",
    "            self._parameters[arg_name] = value\n",
    "            \n",
    "    @property\n",
    "    def args(self):\n",
    "        args = []\n",
    "        for param_name, param in self._sig.parameters.items():\n",
    "            if param.kind in (inspect.Parameter.VAR_KEYWORD, inspect.Parameter.KEYWORD_ONLY):\n",
    "                break\n",
    "\n",
    "            if arg := self._parameters.get(param_name, None):\n",
    "                if param.kind == inspect.Parameter.VAR_POSITIONAL:\n",
    "                    args.extend(arg)\n",
    "                else:\n",
    "                    args.append(arg)\n",
    "                    \n",
    "        return tuple(args)\n",
    "\n",
    "    @property\n",
    "    def kwargs(self):\n",
    "        kwargs = {}\n",
    "        kwargs_started = False\n",
    "        for param_name, param in self._sig.parameters.items():\n",
    "            if not kwargs_started:\n",
    "                if param.kind in (inspect.Parameter.VAR_KEYWORD, inspect.Parameter.KEYWORD_ONLY):\n",
    "                    kwargs_started = True\n",
    "                else:\n",
    "                    if param_name not in self._parameters:\n",
    "                        kwargs_started = True\n",
    "                        continue\n",
    "\n",
    "            if not kwargs_started:\n",
    "                continue\n",
    "            \n",
    "            if arg := self._parameters.get(param_name, None):\n",
    "                if param.kind == inspect.Parameter.VAR_KEYWORD:\n",
    "                    kwargs.update(arg)\n",
    "                else:\n",
    "                    kwargs[param_name] = arg\n",
    "\n",
    "        return kwargs\n",
    "\n",
    "        \n",
    "        \n",
    "params = FuncParameters(final_boss, 1, b=3, asd=5)\n",
    "print(params.to_dict())\n",
    "params.update(fifarafa=10)\n",
    "params.to_dict()"
   ]
  },
  {
   "cell_type": "code",
   "execution_count": 84,
   "metadata": {},
   "outputs": [
    {
     "name": "stdout",
     "output_type": "stream",
     "text": [
      "o.o kwargs_\n"
     ]
    }
   ],
   "source": [
    "_sig = inspect.signature(final_boss)\n",
    "for name, param in _sig.parameters.items():\n",
    "    if param.kind == param.VAR_KEYWORD:\n",
    "        print(\"o.o\", name)"
   ]
  },
  {
   "cell_type": "code",
   "execution_count": 79,
   "metadata": {},
   "outputs": [
    {
     "name": "stdout",
     "output_type": "stream",
     "text": [
      "kwargs\n",
      "options\n",
      "kwargs_\n"
     ]
    }
   ],
   "source": [
    "import inspect\n",
    "\n",
    "def get_kwargs_parameter_name(func):\n",
    "    sig = inspect.signature(func)\n",
    "    for name, param in sig.parameters.items():\n",
    "        if param.kind == param.VAR_KEYWORD:\n",
    "            return name\n",
    "    return None\n",
    "\n",
    "# Example functions\n",
    "def example_function(a, b=10, *args, d=20, **kwargs):\n",
    "    pass\n",
    "\n",
    "def set_options(**options):\n",
    "    pass\n",
    "\n",
    "# Get the name of the keyword arguments parameter\n",
    "kwargs_param_name_1 = get_kwargs_parameter_name(example_function)\n",
    "kwargs_param_name_2 = get_kwargs_parameter_name(set_options)\n",
    "kwargs_param_name_3 = get_kwargs_parameter_name(final_boss)\n",
    "\n",
    "print(kwargs_param_name_1)  # Output: kwargs\n",
    "print(kwargs_param_name_2)  # Output: options\n",
    "print(kwargs_param_name_3)  # Output: options"
   ]
  },
  {
   "cell_type": "code",
   "execution_count": 48,
   "metadata": {},
   "outputs": [
    {
     "data": {
      "text/plain": [
       "<_ParameterKind.VAR_POSITIONAL: 2>"
      ]
     },
     "execution_count": 48,
     "metadata": {},
     "output_type": "execute_result"
    }
   ],
   "source": [
    "param.VAR_KEYWORD\n",
    "\n",
    "inspect._ParameterKind.VAR_POSITIONAL\n",
    "inspect.Parameter.VAR_POSITIONAL\n",
    "\n"
   ]
  },
  {
   "cell_type": "code",
   "execution_count": 111,
   "metadata": {},
   "outputs": [],
   "source": [
    "from dagpipe.typing import TaskType\n",
    "\n",
    "\n",
    "class TaskParams:\n",
    "    def __init__(self, func: Callable, *init_args, **init_kwargs) -> None:\n",
    "        self._sig = inspect.signature(func)\n",
    "        self._parameters = self._sig.bind(*init_args, **init_kwargs).arguments\n",
    "        self._task_params_names = self._filter_tasks_from_parameters()\n",
    "        \n",
    "        self._varargs_name = self._find_param_name(inspect.Parameter.VAR_POSITIONAL)\n",
    "        self._varkwargs_name = self._find_param_name(inspect.Parameter.VAR_KEYWORD)\n",
    "        \n",
    "        self._all_varargs_are_tasks = self._are_all_varargs_tasks()\n",
    "        self._tasks_in_varkwargs = self._get_tasks_from_varkwargs()\n",
    "        \n",
    "    @property\n",
    "    def evaluated_args(self) -> tuple:\n",
    "        return tuple(a.evaluated_result if isinstance(a, TaskType) else a for a in self.args)\n",
    "    \n",
    "    @property\n",
    "    def evaluated_kwargs(self) -> dict:\n",
    "        return {k: v.evaluated_result if isinstance(v, TaskType) else v for k, v in self.kwargs.items()}\n",
    "        \n",
    "    @property\n",
    "    def args(self) -> tuple:\n",
    "        args = []\n",
    "        for param_name, param in self._sig.parameters.items():\n",
    "            if param.kind in (inspect.Parameter.VAR_KEYWORD, inspect.Parameter.KEYWORD_ONLY):\n",
    "                break\n",
    "\n",
    "            if arg := self._parameters.get(param_name, None):\n",
    "                if param.kind == inspect.Parameter.VAR_POSITIONAL:\n",
    "                    args.extend(arg)\n",
    "                else:\n",
    "                    args.append(arg)\n",
    "                    \n",
    "        return tuple(args)\n",
    "\n",
    "    @property\n",
    "    def kwargs(self) -> dict:\n",
    "        kwargs = {}\n",
    "        kwargs_started = False\n",
    "        for param_name, param in self._sig.parameters.items():\n",
    "            if not kwargs_started:\n",
    "                if param.kind in (inspect.Parameter.VAR_KEYWORD, inspect.Parameter.KEYWORD_ONLY):\n",
    "                    kwargs_started = True\n",
    "                else:\n",
    "                    if param_name not in self._parameters:\n",
    "                        kwargs_started = True\n",
    "                        continue\n",
    "\n",
    "            if not kwargs_started:\n",
    "                continue\n",
    "            \n",
    "            if arg := self._parameters.get(param_name, None):\n",
    "                if param.kind == inspect.Parameter.VAR_KEYWORD:\n",
    "                    kwargs.update(arg)\n",
    "                else:\n",
    "                    kwargs[param_name] = arg\n",
    "\n",
    "        return kwargs\n",
    "\n",
    "        \n",
    "    def update(self, *args, **kwargs):\n",
    "        new_arguments = self._sig.bind_partial(*args, **kwargs).arguments\n",
    "        self.__assert_tasks_are_not_overwritten(new_arguments)\n",
    "        new_arguments = self.__update_varkwargs_with_varkwargs_tasks(new_arguments)\n",
    "        for arg_name, value in new_arguments.items():\n",
    "            self._parameters[arg_name] = value\n",
    "\n",
    "    def __assert_tasks_are_not_overwritten(self, new_arguments):\n",
    "        self.__assert_tasks_are_not_overwritten_in_arguments(new_arguments)\n",
    "        self.__assert_tasks_are_not_overwritten_in_varargs(new_arguments)\n",
    "        self.__assert_tasks_are_not_overwritten_in_varkwargs(new_arguments)\n",
    "\n",
    "    def __assert_tasks_are_not_overwritten_in_arguments(self, new_arguments: dict):\n",
    "        for name in self._task_params_names:\n",
    "            if name in new_arguments:\n",
    "                raise TypeError(f\"Tried to overwrite {self._parameters[name]}\"\n",
    "                                f\" with {new_arguments[name]}\"\n",
    "                                f\" in parameter {name}.\"\n",
    "                                \" Task overwriting is not allowed.\")   \n",
    "    \n",
    "    def __assert_tasks_are_not_overwritten_in_varkwargs(self, new_arguments: dict):\n",
    "        if self._varkwargs_name:\n",
    "            if new_varkwargs := new_arguments.get(self._varkwargs_name, None):\n",
    "                for name in self._tasks_in_varkwargs:\n",
    "                    if name in new_varkwargs:\n",
    "                        raise TypeError(f\"Tried to overwrite {self._parameters[name]}\"\n",
    "                                        f\" with {new_arguments[name]}\"\n",
    "                                        f\" in parameter {name}.\"\n",
    "                                        \" Task overwriting is not allowed.\")        \n",
    "\n",
    "    def __assert_tasks_are_not_overwritten_in_varargs(self, new_arguments: dict):\n",
    "        if self._all_varargs_are_tasks:\n",
    "            if new_arguments.get(self._varargs_name, None):\n",
    "                raise TypeError(\"Overwriting varargs, is not allowed\"\n",
    "                                    \" when varargs are tasks.\")\n",
    "   \n",
    "    def __update_varkwargs_with_varkwargs_tasks(self, new_arguments: dict):\n",
    "        if self._varkwargs_name in new_arguments:\n",
    "            new_arguments[self._varkwargs_name].update(self._tasks_in_varkwargs)\n",
    "        return new_arguments\n",
    "                            \n",
    "    def _filter_tasks_from_parameters(self):\n",
    "        return [name for name, param in self._parameters.items() if isinstance(param, TaskType)]\n",
    "        \n",
    "    def _are_all_varargs_tasks(self) -> bool:\n",
    "        if varargs := self._parameters.get(self._varargs_name, None):\n",
    "            if any(isinstance(arg, TaskType) for arg in varargs):\n",
    "                self.__assert_all_varargs_are_tasks(varargs)\n",
    "                return True\n",
    "        return False\n",
    "    \n",
    "    def __assert_all_varargs_are_tasks(self, varargs):\n",
    "        if not all(isinstance(arg, TaskType) for arg in varargs):\n",
    "            raise ValueError(\"Either all or none varargs needs to be a TaskType.\")\n",
    "    \n",
    "    def _find_param_name(self, kind):\n",
    "        for name, param in self._sig.parameters.items():\n",
    "            if param.kind == kind:\n",
    "                return name\n",
    "        return None\n",
    "    \n",
    "    def _get_tasks_from_varkwargs(self) -> dict:\n",
    "        if varkwargs := self._parameters.get(self._varkwargs_name, None):\n",
    "                return {k: v for k, v in varkwargs.items() if isinstance(v, TaskType)}\n",
    "        return {}\n",
    "        \n",
    "    def to_dict(self):\n",
    "        return self._parameters"
   ]
  },
  {
   "cell_type": "markdown",
   "metadata": {},
   "source": [
    "## Tests"
   ]
  },
  {
   "cell_type": "code",
   "execution_count": 112,
   "metadata": {},
   "outputs": [
    {
     "data": {
      "text/plain": [
       "'evaluated'"
      ]
     },
     "execution_count": 112,
     "metadata": {},
     "output_type": "execute_result"
    }
   ],
   "source": [
    "@dagpipe.task()\n",
    "def foo(x):\n",
    "    return x\n",
    "\n",
    "t = foo(1)\n",
    "t.run(\"evaluated\")\n",
    "t.evaluated_result"
   ]
  },
  {
   "cell_type": "code",
   "execution_count": 113,
   "metadata": {},
   "outputs": [
    {
     "data": {
      "text/plain": [
       "([], False, {'t': Task<foo>})"
      ]
     },
     "execution_count": 113,
     "metadata": {},
     "output_type": "execute_result"
    }
   ],
   "source": [
    "(\n",
    "    TaskParams(final_boss, 1, 2, 3, t=t)._task_params_names,\n",
    "    TaskParams(final_boss, 1, 2, 3, t=t)._all_varargs_are_tasks,\n",
    "    TaskParams(final_boss, 1, 2, 3, t=t)._tasks_in_varkwargs,    \n",
    ")"
   ]
  },
  {
   "cell_type": "code",
   "execution_count": 114,
   "metadata": {},
   "outputs": [
    {
     "name": "stdout",
     "output_type": "stream",
     "text": [
      "Error occurs\n",
      "Either all or none varargs needs to be a TaskType.\n"
     ]
    }
   ],
   "source": [
    "try:\n",
    "    (\n",
    "        TaskParams(final_boss, 1, 2, 3, t)._task_params_names,\n",
    "        TaskParams(final_boss, 1, 2, 3, t)._all_varargs_are_tasks,\n",
    "        TaskParams(final_boss, 1, 2, 3, t)._tasks_in_varkwargs,    \n",
    "    )\n",
    "except ValueError as e:\n",
    "    print(\"Error occurs\")\n",
    "    print(e)"
   ]
  },
  {
   "cell_type": "code",
   "execution_count": 115,
   "metadata": {},
   "outputs": [
    {
     "data": {
      "text/plain": [
       "(['a'], False, {})"
      ]
     },
     "execution_count": 115,
     "metadata": {},
     "output_type": "execute_result"
    }
   ],
   "source": [
    "(\n",
    "    TaskParams(final_boss, t, 2, 3)._task_params_names,\n",
    "    TaskParams(final_boss, t, 2, 3)._all_varargs_are_tasks,\n",
    "    TaskParams(final_boss, t, 2, 3)._tasks_in_varkwargs,    \n",
    ")"
   ]
  },
  {
   "cell_type": "code",
   "execution_count": 116,
   "metadata": {},
   "outputs": [
    {
     "data": {
      "text/plain": [
       "(['a', 'b'], True, {})"
      ]
     },
     "execution_count": 116,
     "metadata": {},
     "output_type": "execute_result"
    }
   ],
   "source": [
    "(\n",
    "    TaskParams(final_boss, t, t, t)._task_params_names,\n",
    "    TaskParams(final_boss, t, t, t)._all_varargs_are_tasks,\n",
    "    TaskParams(final_boss, t, t, t)._tasks_in_varkwargs,    \n",
    ")"
   ]
  },
  {
   "cell_type": "code",
   "execution_count": 120,
   "metadata": {},
   "outputs": [
    {
     "data": {
      "text/plain": [
       "((1, Task<foo>, Task<foo>, Task<foo>),\n",
       " {'t': Task<foo>, 'not_task': 123},\n",
       " (1, 'evaluated', 'evaluated', 'evaluated'),\n",
       " {'t': 'evaluated', 'not_task': 123})"
      ]
     },
     "execution_count": 120,
     "metadata": {},
     "output_type": "execute_result"
    }
   ],
   "source": [
    "(\n",
    "    TaskParams(final_boss, 1, t, t, t, t=t, not_task=123).args,\n",
    "    TaskParams(final_boss, 1, t, t, t, t=t, not_task=123).kwargs,\n",
    "    TaskParams(final_boss, 1, t, t, t, t=t, not_task=123).evaluated_args,\n",
    "    TaskParams(final_boss, 1, t, t, t, t=t, not_task=123).evaluated_kwargs,\n",
    ")"
   ]
  },
  {
   "cell_type": "code",
   "execution_count": null,
   "metadata": {},
   "outputs": [],
   "source": []
  },
  {
   "cell_type": "code",
   "execution_count": null,
   "metadata": {},
   "outputs": [],
   "source": []
  }
 ],
 "metadata": {
  "kernelspec": {
   "display_name": "base",
   "language": "python",
   "name": "python3"
  },
  "language_info": {
   "codemirror_mode": {
    "name": "ipython",
    "version": 3
   },
   "file_extension": ".py",
   "mimetype": "text/x-python",
   "name": "python",
   "nbconvert_exporter": "python",
   "pygments_lexer": "ipython3",
   "version": "3.10.14"
  }
 },
 "nbformat": 4,
 "nbformat_minor": 2
}
